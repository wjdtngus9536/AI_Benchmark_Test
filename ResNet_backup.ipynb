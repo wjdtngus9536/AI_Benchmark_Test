{
 "cells": [
  {
   "cell_type": "code",
   "execution_count": 1,
   "id": "9d94ea81",
   "metadata": {},
   "outputs": [
    {
     "name": "stdout",
     "output_type": "stream",
     "text": [
      "pytorch                   1.13.1          py3.9_cuda11.6_cudnn8_0    pytorch\n"
     ]
    }
   ],
   "source": [
    "!conda list | find \"cudnn\""
   ]
  },
  {
   "cell_type": "code",
   "execution_count": 1,
   "id": "a2f14a45",
   "metadata": {},
   "outputs": [],
   "source": [
    "import torch\n",
    "import torchvision\n",
    "import torchvision.transforms as transforms\n",
    "import torch.nn as nn\n",
    "import torch.optim as optim\n",
    "from torch.utils.data import DataLoader\n",
    "from sklearn.metrics import f1_score\n",
    "import numpy as np"
   ]
  },
  {
   "cell_type": "code",
   "execution_count": 8,
   "id": "02db3a97",
   "metadata": {},
   "outputs": [
    {
     "name": "stdout",
     "output_type": "stream",
     "text": [
      "Files already downloaded and verified\n",
      "Files already downloaded and verified\n"
     ]
    }
   ],
   "source": [
    "# 1. torchvision을 사용하여 CIFAR10을 불러오고 정규화 하기\n",
    "\n",
    "# Compose(), 여러 변환 작업을 단일 파이프라인으로 연결\n",
    "transform = transforms.Compose(\n",
    "    # ToTensor(), Python Image Library or Numpy 배열인 입력 이미지를 파이토치 텐서로 변환\n",
    "    [transforms.ToTensor(),\n",
    "    # 평균 및 표준 편차로 tensor 정규화, 각 채널의 평균값(RGB), 각 채널의 표준편차 값\n",
    "#     transforms.Normalize((0.485, 0.456, 0.406), (0.229, 0.224, 0.225))])\n",
    "    transforms.Normalize((0.5, 0.5, 0.5), (0.5, 0.5, 0.5))])\n",
    "\n",
    "# ImageNet이 학습한 수백만장의 이미지의 RGB 각각의 채널에 대한 평균은 0.485, 0.456, 0.406 그리고 표준편차는 0.229, 0.224, 0.225\n",
    "\n",
    "# 모델 입장에서 가장 좋은 값은 0 ~ 1 사이의 값\n",
    "# 엄청나게 무수히 많은 값이 정수면 너무 커져버린다.\n",
    "# 모델을 학습할 때 모든 데이터는 0 ~ 1사이의 값으로 정규화를 한 후에 학습을 시킨다.\n",
    "# image 데이터는 0 ~ 255 사이인데 정규화 하기 위해서 Normailization 하는 것\n",
    "\n",
    "# 각 미니 배치에 64개의 샘플이 포함됨\n",
    "batch_size = 4\n",
    "\n",
    "trainset = torchvision.datasets.CIFAR10(root='./data', \n",
    "                                        train=True,\n",
    "                                        download=True, \n",
    "                                        transform=transform) # transforms.Compose()를 사용하여 이전에 정의된 변환 파이프라인으로 설정\n",
    "testset = torchvision.datasets.CIFAR10(root='./data', \n",
    "                                       train=False,\n",
    "                                       download=True, \n",
    "                                       transform=transform)\n",
    "\n",
    "trainloader = torch.utils.data.DataLoader(trainset, \n",
    "                                          batch_size=batch_size,\n",
    "                                          shuffle=True, \n",
    "                                          num_workers=4) # num_workers : 데이터 로드에 사용할 하위 프로세스 수\n",
    "testloader = torch.utils.data.DataLoader(testset, \n",
    "                                         batch_size=batch_size, \n",
    "                                         shuffle=False, \n",
    "                                         num_workers=4)\n",
    "\n",
    "classes = ('plane', 'car', 'bird', 'cat', 'deer', 'dog', 'frog', 'horse', 'ship', 'truck')"
   ]
  },
  {
   "cell_type": "code",
   "execution_count": 9,
   "id": "3cbe6614",
   "metadata": {},
   "outputs": [
    {
     "data": {
      "image/png": "[encoded data removed]",
      "text/plain": [
       "<Figure size 640x480 with 1 Axes>"
      ]
     },
     "metadata": {},
     "output_type": "display_data"
    },
    {
     "name": "stdout",
     "output_type": "stream",
     "text": [
      "dog   frog  ship  deer \n"
     ]
    }
   ],
   "source": [
    "import matplotlib.pyplot as plt\n",
    "import numpy as np\n",
    "\n",
    "def imshow(img):\n",
    "    img = img / 2 + 0.5\n",
    "    npimg = img.numpy()\n",
    "    plt.imshow(np.transpose(npimg, (1, 2, 0)))\n",
    "    plt.show()\n",
    "\n",
    "# 학습용 이미지를 무작위로 가져오기\n",
    "dataiter = iter(trainloader)\n",
    "images, labels = next(dataiter)\n",
    "\n",
    "# 이미지 보여주기\n",
    "imshow(torchvision.utils.make_grid(images))\n",
    "\n",
    "# 정답(label) 출력\n",
    "print(' '.join(f'{classes[labels[j]]:5s}' for j in range(4)))"
   ]
  },
  {
   "cell_type": "code",
   "execution_count": null,
   "id": "3c838c00",
   "metadata": {},
   "outputs": [],
   "source": [
    "# 2. torchvision.models.ResNet\n",
    "model = torchvision.models.resnet50(pretrained=True)\n",
    "\n",
    "## CUDA 기기가 존재한다면, 아래 코드가 CUDA 장치를 출력합니다:\n",
    "device = torch.device('cuda:0' if torch.cuda.is_available() else 'cpu')\n",
    "print(device)\n",
    "model.to(device)\n",
    "\n",
    "# 3. 손실 함수 정의\n",
    "# 손실 함수는 그냥 이거 쓰고\n",
    "criterion = nn.CrossEntropyLoss()\n",
    "# lr = 0.001이 conventionally 많이 사용\n",
    "optimizer = optim.Adam(model.parameters(), lr=0.01) #  momentum=0.9\n",
    "\n",
    "# Adam도 많이 사용한다. \n",
    "# 이걸로 결과가 어떻게 달라지는지 보는 것도 흥미로울 것\n",
    "# lr= 1은 주면 안되고 0.1 ~ 1e-6\n"
   ]
  },
  {
   "cell_type": "code",
   "execution_count": null,
   "id": "11b5f7b2",
   "metadata": {},
   "outputs": [],
   "source": [
    "# 4. 학습용 데이터를 사용하여 신경망 학습\n",
    "\n",
    "# es = EarlyStopping(patience = 3, \n",
    "#                    delta=0, \n",
    "#                    mode='min', \n",
    "#                    verbose=True\n",
    "#                   )\n",
    "\n",
    "epochs = 50\n",
    "\n",
    "for epoch in range(epochs):   # 데이터셋을 수차례 반복합니다.\n",
    "\n",
    "    running_loss = 0.0\n",
    "    for i, data in enumerate(trainloader, 0):\n",
    "        # [inputs, labels]의 목록인 data로부터 입력을 받은 후;\n",
    "        # inputs, labels = data # cuda 사용\n",
    "        # cuda(gpu)로 데이터를 넘겨줘야 한다.\n",
    "        inputs, labels = data[0].to(device), data[1].to(device)\n",
    "\n",
    "        # 변화도(Gradient) 매개변수를 0으로 만들고\n",
    "        optimizer.zero_grad()\n",
    "\n",
    "        # 순전파 + 역전파 + 최적화를 한 후\n",
    "        outputs = model(inputs)\n",
    "        # 손실 함수의 loss 결과 값을 그래프로 보면 될 것\n",
    "        # batch마다 출력하고 있으니 epoch 끝날 때 마다 평균내서 출력해야 한다.\n",
    "        loss = criterion(outputs, labels)\n",
    "        loss.backward()\n",
    "        optimizer.step()\n",
    "\n",
    "#        # EarlyStopping\n",
    "#         es(loss.item())\n",
    "#         print(f'[{epoch + 1}] loss: {loss.item():.3f}')\n",
    "#         # Early Stop Check\n",
    "#         if es.early_stop:\n",
    "#             break\n",
    "\n",
    "        # 통계를 출력\n",
    "        running_loss += loss.item()\n",
    "        if i % 200 == 199:    # print every 200 mini-batches\n",
    "            print(f'[{epoch + 1}, {i + 1:5d}] loss: {running_loss / 200:.3f}')\n",
    "            running_loss = 0.0\n",
    "\n",
    "        # F1-score 구할 때 function은 cpu에서 돌아가야 할 것\n",
    "        # 다시 cpu로 가져오기 위해서 data.to(cpu)\n",
    "\n",
    "print('Finished Training')\n",
    "\n",
    "\n",
    "# 학습한 모델 저장\n",
    "PATH = './cifar_net.pth'\n",
    "torch.save(model.state_dict(), PATH)\n",
    "\n"
   ]
  },
  {
   "cell_type": "code",
   "execution_count": null,
   "id": "47518b9d",
   "metadata": {},
   "outputs": [],
   "source": [
    "# 5. 시험용 데이터로 신경망 검사하기\n",
    "dataiter = iter(testloader)\n",
    "images, labels = next(dataiter)"
   ]
  },
  {
   "cell_type": "code",
   "execution_count": null,
   "id": "98f3e874",
   "metadata": {},
   "outputs": [],
   "source": [
    "# 이미지를 출력합니다.\n",
    "imshow(torchvision.utils.make_grid(images))\n",
    "print('GroundTruth: ', ' '.join(f'{classes[labels[j]]:5s}' for j in range(4)))"
   ]
  },
  {
   "cell_type": "code",
   "execution_count": null,
   "id": "0254fb02",
   "metadata": {},
   "outputs": [],
   "source": [
    "PATH = './cifar_net.pth'\n",
    "\n",
    "# 저장했던 모델 불러오기\n",
    "model = torchvision.models.resnet50(pretrained=True)\n",
    "model.load_state_dict(torch.load(PATH))\n",
    "outputs = model(images)"
   ]
  },
  {
   "cell_type": "code",
   "execution_count": null,
   "id": "68e36688",
   "metadata": {},
   "outputs": [],
   "source": [
    "# 시험용 데이터 불러오기\n",
    "\n",
    "dataiter = iter(testloader)\n",
    "images, labels = next(dataiter)\n",
    "\n",
    "model = torchvision.models.resnet50(pretrained=True)\n",
    "model.load_state_dict(torch.load(PATH))\n",
    "model.eval()\n",
    "\n",
    "# Gradients are still not needed\n",
    "with torch.no_grad():\n",
    "    y_true = []\n",
    "    y_pred = []\n",
    "    for data in testloader:\n",
    "        images, labels = data\n",
    "        outputs = model(images)\n",
    "        _, predictions = torch.max(outputs, 1)\n",
    "        y_true.extend(labels.numpy())\n",
    "        y_pred.extend(predictions.cpu().numpy())\n",
    "\n",
    "f1 = f1_score(y_true, y_pred, average='macro')\n",
    "print(f'F1 score: {f1:.3f}')"
   ]
  },
  {
   "cell_type": "code",
   "execution_count": null,
   "id": "71559324",
   "metadata": {},
   "outputs": [],
   "source": [
    "# 가장 높은 값을 갖는 인덱스(index)를 뽑기\n",
    "_, predicted = torch.max(outputs, 1)\n",
    "print('Predicted: ', ' '.join(f'{classes[predicted[j]]:5s}'\n",
    "                              for j in range(4)))\n",
    "\n",
    "# 각 분류(class)에 대한 예측값 계산을 위해 준비\n",
    "correct_pred = {classname: 0 for classname in classes}\n",
    "total_pred = {classname: 0 for classname in classes}\n",
    "\n",
    "# 변화도는 여전히 필요하지 않습니다\n",
    "with torch.no_grad():\n",
    "    for data in testloader:\n",
    "        images, labels = data\n",
    "        outputs = model(images)\n",
    "        _, predictions = torch.max(outputs, 1)\n",
    "        # 각 분류별로 올바른 예측 수를 모읍니다\n",
    "        for label, prediction in zip(labels, predictions):\n",
    "            if label == prediction:\n",
    "                correct_pred[classes[label]] += 1\n",
    "            total_pred[classes[label]] += 1\n",
    "\n",
    "\n",
    "# 각 분류별 정확도(accuracy)를 출력합니다\n",
    "for classname, correct_count in correct_pred.items():\n",
    "    accuracy = 100 * float(correct_count) / total_pred[classname]\n",
    "    print(f'Accuracy for class: {classname:5s} is {accuracy:.1f} %')"
   ]
  },
  {
   "cell_type": "markdown",
   "id": "1ce1b385",
   "metadata": {},
   "source": [
    "# 결과 기록\n",
    "\n",
    "- 하이퍼파라미터: 모델 학습 시 사람이 정해줘야하는 설정 값/함수 (위 코드에서 주의깊게 봐야할 사항)\n",
    "    - Loss : 모델 예측값과 정답의 오차\n",
    "    - Optimizer : 모델 학습 결과를 업데이트하는 방법\n",
    "    - Learning Rate : 학습률. 모델 업데이트 시 반영할 비율\n",
    "    - Epoch : 반복 학습 횟수\n",
    "    - Batch_size : 학습 데이터를 분할하여 학습할 때 몇 개씩 할건지 정의\n",
    "    \n",
    "    \n",
    "batch size : 64\n",
    "optimizer : SGD\n",
    "learning rate :  0.01\n",
    "epoch : 50\n",
    "\n",
    "\n",
    "1) early stopping 적용(patience 3 per loss) :  \n",
    "    loss : [50] loss: 1.394\n",
    "    ```\n",
    "    Accuracy for class: plane is 48.0 %\n",
    "    Accuracy for class: car   is 75.0 %\n",
    "    Accuracy for class: bird  is 23.0 %\n",
    "    Accuracy for class: cat   is 22.1 %\n",
    "    Accuracy for class: deer  is 13.0 %\n",
    "    Accuracy for class: dog   is 34.5 %\n",
    "    Accuracy for class: frog  is 66.6 %\n",
    "    Accuracy for class: horse is 66.6 %\n",
    "    Accuracy for class: ship  is 51.3 %\n",
    "    Accuracy for class: truck is 27.3 %\n",
    "    ```\n",
    "2) 미적용 :  \n",
    "    loss : [50,   600] loss: 0.010  \n",
    "    ```\n",
    "    Accuracy for class: plane is 82.9 %\n",
    "    Accuracy for class: car   is 85.0 %\n",
    "    Accuracy for class: bird  is 69.9 %\n",
    "    Accuracy for class: cat   is 61.4 %\n",
    "    Accuracy for class: deer  is 79.4 %\n",
    "    Accuracy for class: dog   is 59.6 %\n",
    "    Accuracy for class: frog  is 87.5 %\n",
    "    Accuracy for class: horse is 82.2 %\n",
    "    Accuracy for class: ship  is 86.7 %\n",
    "    Accuracy for class: truck is 83.3 %\n",
    "    ```\n",
    "    \n",
    "    \n",
    "\n",
    "batch size : 64  \n",
    "optimizer : Adam()  \n",
    "learning rate :  0.01  \n",
    "epoch : 50  \n",
    "```\n",
    "loss : [50,   600] loss: 0.055\n",
    "Accuracy for class: plane is 80.4 %\n",
    "Accuracy for class: car   is 85.1 %\n",
    "Accuracy for class: bird  is 58.1 %\n",
    "Accuracy for class: cat   is 58.3 %\n",
    "Accuracy for class: deer  is 76.0 %\n",
    "Accuracy for class: dog   is 64.6 %\n",
    "Accuracy for class: frog  is 84.4 %\n",
    "Accuracy for class: horse is 83.6 %\n",
    "Accuracy for class: ship  is 87.2 %\n",
    "Accuracy for class: truck is 84.6 %\n",
    "```"
   ]
  },
  {
   "cell_type": "code",
   "execution_count": null,
   "id": "18f38d0f",
   "metadata": {},
   "outputs": [],
   "source": []
  }
 ],
 "metadata": {
  "kernelspec": {
   "display_name": "Python 3 (ipykernel)",
   "language": "python",
   "name": "python3"
  },
  "language_info": {
   "codemirror_mode": {
    "name": "ipython",
    "version": 3
   },
   "file_extension": ".py",
   "mimetype": "text/x-python",
   "name": "python",
   "nbconvert_exporter": "python",
   "pygments_lexer": "ipython3",
   "version": "3.9.16"
  },
  "toc": {
   "base_numbering": 1,
   "nav_menu": {},
   "number_sections": true,
   "sideBar": true,
   "skip_h1_title": false,
   "title_cell": "Table of Contents",
   "title_sidebar": "Contents",
   "toc_cell": false,
   "toc_position": {},
   "toc_section_display": true,
   "toc_window_display": false
  }
 },
 "nbformat": 4,
 "nbformat_minor": 5
}

{
 "cells": [
  {
   "cell_type": "code",
   "execution_count": 6,
   "id": "256d1ebf",
   "metadata": {},
   "outputs": [],
   "source": [
    "import torch\n",
    "import torchvision\n",
    "import torchvision.transforms as transforms\n",
    "import torch.nn as nn\n",
    "import torch.optim as optim\n",
    "from torch.utils.data import DataLoader\n",
    "import numpy as np\n",
    "from sklearn.metrics import f1_score"
   ]
  },
  {
   "cell_type": "code",
   "execution_count": 2,
   "id": "bf9200d4",
   "metadata": {},
   "outputs": [
    {
     "name": "stdout",
     "output_type": "stream",
     "text": [
      "Files already downloaded and verified\n"
     ]
    }
   ],
   "source": [
    "transform = transforms.Compose(\n",
    "    [transforms.ToTensor(),\n",
    "    transforms.Normalize((0.5, 0.5, 0.5), (0.5, 0.5, 0.5))]\n",
    ")\n",
    "\n",
    "batch_size = 64\n",
    "classes = ('plane', 'car', 'bird', 'cat', 'deer', 'dog', 'frog', 'horse', 'ship', 'truck')\n",
    "\n",
    "trainset = torchvision.datasets.CIFAR10(root='./data', \n",
    "                                        train=True,\n",
    "                                        download=True, \n",
    "                                        transform=transform)\n",
    "\n",
    "trainloader = torch.utils.data.DataLoader(trainset, \n",
    "                                          batch_size=batch_size,\n",
    "                                          shuffle=True, \n",
    "                                          num_workers=4)"
   ]
  },
  {
   "cell_type": "code",
   "execution_count": 6,
   "id": "e57e8c38",
   "metadata": {},
   "outputs": [
    {
     "name": "stderr",
     "output_type": "stream",
     "text": [
      "Downloading: \"https://download.pytorch.org/models/squeezenet1_1-b8a52dc0.pth\" to C:\\Users\\Suhyeon/.cache\\torch\\hub\\checkpoints\\squeezenet1_1-b8a52dc0.pth\n",
      "100.0%\n"
     ]
    },
    {
     "name": "stdout",
     "output_type": "stream",
     "text": [
      "cuda:0\n"
     ]
    }
   ],
   "source": [
    "# 모델 정의\n",
    "model = torchvision.models.squeezenet1_1(pretrained=True)\n",
    "device = torch.device('cuda:0' if torch.cuda.is_available() else 'cpu')\n",
    "print(device)\n",
    "model.to(device)\n",
    "\n",
    "# 손실 함수 정의\n",
    "criterion = nn.CrossEntropyLoss()\n",
    "optimizer = optim.Adam(model.parameters(), lr = 1e-3)"
   ]
  },
  {
   "cell_type": "code",
   "execution_count": 7,
   "id": "f64d62a1",
   "metadata": {},
   "outputs": [
    {
     "name": "stdout",
     "output_type": "stream",
     "text": [
      "[1] loss: 2.602\n",
      "[2] loss: 2.198\n",
      "[3] loss: 2.117\n",
      "[4] loss: 1.943\n",
      "[5] loss: 1.581\n",
      "[6] loss: 1.243\n",
      "[7] loss: 1.061\n",
      "[8] loss: 0.940\n",
      "[9] loss: 0.857\n",
      "[10] loss: 0.783\n",
      "[11] loss: 0.731\n",
      "[12] loss: 0.688\n",
      "[13] loss: 0.660\n",
      "[14] loss: 0.619\n",
      "[15] loss: 0.589\n",
      "[16] loss: 0.572\n",
      "[17] loss: 0.545\n",
      "[18] loss: 0.513\n",
      "[19] loss: 0.490\n",
      "[20] loss: 0.479\n",
      "[21] loss: 0.453\n",
      "[22] loss: 0.449\n",
      "[23] loss: 0.422\n",
      "[24] loss: 0.420\n",
      "[25] loss: 0.395\n",
      "[26] loss: 0.399\n",
      "[27] loss: 0.380\n",
      "[28] loss: 0.365\n",
      "[29] loss: 0.350\n",
      "[30] loss: 0.339\n",
      "[31] loss: 0.339\n",
      "[32] loss: 0.335\n",
      "[33] loss: 0.309\n",
      "[34] loss: 0.312\n",
      "[35] loss: 0.326\n",
      "[36] loss: 0.294\n",
      "[37] loss: 0.292\n",
      "[38] loss: 0.282\n",
      "[39] loss: 0.291\n",
      "[40] loss: 0.286\n",
      "[41] loss: 0.271\n",
      "[42] loss: 0.262\n",
      "[43] loss: 0.265\n",
      "[44] loss: 0.242\n",
      "[45] loss: 0.258\n",
      "[46] loss: 0.232\n",
      "[47] loss: 0.263\n",
      "[48] loss: 0.239\n",
      "[49] loss: 0.230\n",
      "[50] loss: 0.234\n",
      "Finished Training\n"
     ]
    }
   ],
   "source": [
    "# 4. 학습용 데이터를 사용하여 신경망 학습\n",
    "\n",
    "epochs = 50\n",
    "\n",
    "for epoch in range(epochs):\n",
    "\n",
    "    running_loss = 0.0\n",
    "    for i, data in enumerate(trainloader, 0):\n",
    "        # [inputs, labels]의 목록인 data로부터 입력을 받은 후;\n",
    "        # cuda(gpu)로 데이터를 넘겨줘야 한다.\n",
    "        inputs, labels = data[0].to(device), data[1].to(device)\n",
    "\n",
    "        # 변화도(Gradient) 매개변수를 0으로 만들고\n",
    "        optimizer.zero_grad()\n",
    "\n",
    "        # 순전파 + 역전파 + 최적화를 한 후\n",
    "        outputs = model(inputs)\n",
    "        # 손실 함수의 loss 결과 값을 그래프로 보면 될 것\n",
    "        # batch마다 출력하고 있으니 epoch 끝날 때 마다 평균내서 출력해야 한다.\n",
    "        loss = criterion(outputs, labels)\n",
    "        loss.backward()\n",
    "        optimizer.step()\n",
    "        \n",
    "        running_loss += loss.item()\n",
    "\n",
    "#     # EarlyStopping\n",
    "#     es(running_loss / i)\n",
    "    print(f'[{epoch + 1}] loss: {running_loss / i:.3f}')\n",
    "#     # Early Stop Check\n",
    "#     if es.early_stop:\n",
    "#         break\n",
    "\n",
    "    # F1-score 구할 때 function은 cpu에서 돌아가야 할 것\n",
    "    # 다시 cpu로 가져오기 위해서 data.to('cpu')\n",
    "\n",
    "print('Finished Training')\n",
    "\n",
    "\n",
    "# 학습한 모델 저장\n",
    "PATH = './cifar_squeeze_net.pth'\n",
    "torch.save(model.state_dict(), PATH)"
   ]
  },
  {
   "cell_type": "code",
   "execution_count": 9,
   "id": "87ae71d3",
   "metadata": {},
   "outputs": [
    {
     "data": {
      "text/plain": [
       "<All keys matched successfully>"
      ]
     },
     "execution_count": 9,
     "metadata": {},
     "output_type": "execute_result"
    }
   ],
   "source": [
    "# 저장했던 모델 불러오기\n",
    "PATH = './cifar_squeeze_net.pth'\n",
    "model = torchvision.models.squeezenet1_1(pretrained = False)\n",
    "model.load_state_dict(torch.load(PATH))\n",
    "# outputs = model(images)"
   ]
  },
  {
   "cell_type": "code",
   "execution_count": 20,
   "id": "b6e9c5b4",
   "metadata": {},
   "outputs": [],
   "source": [
    "# 모델 저장 후 시험용 데이터로 신경망 검사할 때 \n",
    "\n",
    "transform = transforms.Compose(\n",
    "    [transforms.ToTensor(),\n",
    "    transforms.Normalize((0.5, 0.5, 0.5), (0.5, 0.5, 0.5))]\n",
    ")\n",
    "\n",
    "batch_size = 64\n",
    "\n",
    "classes = ('plane', 'car', 'bird', 'cat', 'deer', 'dog', 'frog', 'horse', 'ship', 'truck')"
   ]
  },
  {
   "cell_type": "code",
   "execution_count": 13,
   "id": "fd21f601",
   "metadata": {},
   "outputs": [
    {
     "name": "stdout",
     "output_type": "stream",
     "text": [
      "Files already downloaded and verified\n"
     ]
    }
   ],
   "source": [
    "# 5. 모델 저장 후 시험용 데이터로 신경망 검사\n",
    "\n",
    "testset = torchvision.datasets.CIFAR10(root='./data', \n",
    "                                       train=False,\n",
    "                                       download=True, \n",
    "                                       transform=transform)\n",
    "\n",
    "testloader = torch.utils.data.DataLoader(testset, \n",
    "                                         batch_size=batch_size, \n",
    "                                         shuffle=False, \n",
    "                                         num_workers=4)\n",
    "\n",
    "dataiter = iter(testloader)\n",
    "images, labels = next(dataiter)"
   ]
  },
  {
   "cell_type": "code",
   "execution_count": 18,
   "id": "49a8640c",
   "metadata": {},
   "outputs": [
    {
     "name": "stdout",
     "output_type": "stream",
     "text": [
      "F1 score: 0.756\n"
     ]
    }
   ],
   "source": [
    "# 시험용 데이터 불러오기\n",
    "\n",
    "dataiter = iter(testloader)\n",
    "images, labels = next(dataiter)\n",
    "\n",
    "model = torchvision.models.squeezenet1_1(pretrained = True)\n",
    "model.load_state_dict(torch.load(PATH))\n",
    "model.eval()\n",
    "\n",
    "# f1-score 측정(no Gradients)\n",
    "with torch.no_grad():\n",
    "    y_true = []\n",
    "    y_pred = []\n",
    "    for data in testloader:\n",
    "        images, labels = data\n",
    "        outputs = model(images)\n",
    "        _, predictions = torch.max(outputs, 1)\n",
    "        y_true.extend(labels.numpy())\n",
    "        y_pred.extend(predictions.cpu().numpy())\n",
    "\n",
    "f1 = f1_score(y_true, y_pred, average='macro')\n",
    "print(f'F1 score: {f1:.3f}')"
   ]
  },
  {
   "cell_type": "code",
   "execution_count": 21,
   "id": "537dd5a0",
   "metadata": {},
   "outputs": [
    {
     "name": "stdout",
     "output_type": "stream",
     "text": [
      "Predicted:  horse cat   ship  plane\n",
      "Accuracy for class: plane is 75.6 %\n",
      "Accuracy for class: car   is 83.6 %\n",
      "Accuracy for class: bird  is 67.8 %\n",
      "Accuracy for class: cat   is 63.9 %\n",
      "Accuracy for class: deer  is 69.8 %\n",
      "Accuracy for class: dog   is 63.5 %\n",
      "Accuracy for class: frog  is 84.2 %\n",
      "Accuracy for class: horse is 80.1 %\n",
      "Accuracy for class: ship  is 82.3 %\n",
      "Accuracy for class: truck is 82.5 %\n"
     ]
    }
   ],
   "source": [
    "# outputs = model(images)\n",
    "\n",
    "# 가장 높은 값을 갖는 인덱스(index)를 뽑기\n",
    "_, predicted = torch.max(outputs, 1)\n",
    "print('Predicted: ', ' '.join(f'{classes[predicted[j]]:5s}'\n",
    "                              for j in range(4)))\n",
    "\n",
    "# 각 분류(class)에 대한 예측값 계산을 위해 준비\n",
    "correct_pred = {classname: 0 for classname in classes}\n",
    "total_pred = {classname: 0 for classname in classes}\n",
    "\n",
    "# 변화도는 여전히 필요하지 않습니다\n",
    "with torch.no_grad():\n",
    "    for data in testloader:\n",
    "        images, labels = data\n",
    "        outputs = model(images)\n",
    "        _, predictions = torch.max(outputs, 1)\n",
    "        # 각 분류별로 올바른 예측 수를 모읍니다\n",
    "        for label, prediction in zip(labels, predictions):\n",
    "            if label == prediction:\n",
    "                correct_pred[classes[label]] += 1\n",
    "            total_pred[classes[label]] += 1\n",
    "\n",
    "\n",
    "# 각 분류별 정확도(accuracy)를 출력합니다\n",
    "for classname, correct_count in correct_pred.items():\n",
    "    accuracy = 100 * float(correct_count) / total_pred[classname]\n",
    "    print(f'Accuracy for class: {classname:5s} is {accuracy:.1f} %')"
   ]
  },
  {
   "cell_type": "code",
   "execution_count": null,
   "id": "11cce18b",
   "metadata": {},
   "outputs": [],
   "source": []
  }
 ],
 "metadata": {
  "kernelspec": {
   "display_name": "Python 3 (ipykernel)",
   "language": "python",
   "name": "python3"
  },
  "language_info": {
   "codemirror_mode": {
    "name": "ipython",
    "version": 3
   },
   "file_extension": ".py",
   "mimetype": "text/x-python",
   "name": "python",
   "nbconvert_exporter": "python",
   "pygments_lexer": "ipython3",
   "version": "3.9.16"
  },
  "toc": {
   "base_numbering": 1,
   "nav_menu": {},
   "number_sections": true,
   "sideBar": true,
   "skip_h1_title": false,
   "title_cell": "Table of Contents",
   "title_sidebar": "Contents",
   "toc_cell": false,
   "toc_position": {},
   "toc_section_display": true,
   "toc_window_display": false
  }
 },
 "nbformat": 4,
 "nbformat_minor": 5
}
